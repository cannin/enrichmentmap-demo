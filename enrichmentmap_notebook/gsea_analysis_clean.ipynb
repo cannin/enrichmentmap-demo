{
 "cells": [
  {
   "cell_type": "markdown",
   "metadata": {},
   "source": [
    "\n",
    "## Purpose\n",
    "\n",
    "Test out clusterProfiler\n",
    "\n",
    "## Load libraries\n"
   ]
  },
  {
   "cell_type": "code",
   "execution_count": null,
   "metadata": {
    "autoscroll": false,
    "collapsed": true
   },
   "outputs": [],
   "source": [
    "# Bioconductor\n",
    "library(clusterProfiler)\n",
    "#library(paxtoolsr)\n",
    "\n",
    "# CRAN\n",
    "library(wordcloud)\n",
    "library(tm)\n",
    "library(igraph)\n",
    "library(magrittr)\n",
    "library(dplyr)\n",
    "library(jsonlite)\n",
    "\n",
    "source(\"readGmt.R\")\n",
    "source(\"toCytoscape.R\")"
   ]
  },
  {
   "cell_type": "markdown",
   "metadata": {},
   "source": [
    "\n",
    "## Load Gene Sets\n",
    "### Bader EnrichmentMap\n"
   ]
  },
  {
   "cell_type": "code",
   "execution_count": null,
   "metadata": {
    "autoscroll": false,
    "collapsed": true
   },
   "outputs": [],
   "source": [
    "lowerBound <- 3\n",
    "upperBound <- 100\n",
    "\n",
    "lovGmt <- readGmt(\"Human_GOBP_AllPathways_no_GO_iea_February_01_2017_symbol.gmt\")\n",
    "xCnts <- unlist(lapply(lovGmt, length))\n",
    "idx <- which(xCnts > lowerBound & xCnts < upperBound)\n",
    "which.max(xCnts[idx])\n",
    "length(lovGmt[[1435]])\n",
    "\n",
    "orgNames <- names(lovGmt)\n",
    "\n",
    "smNames <- NULL\n",
    "for(i in 1:length(lovGmt)) {\n",
    "  t1 <- names(lovGmt)[i]\n",
    "  t2 <- strsplit(t1, \"%\")\n",
    "  smNames <- c(smNames, t2[[1]][1])\n",
    "}"
   ]
  },
  {
   "cell_type": "markdown",
   "metadata": {},
   "source": [
    "\n",
    "# Convert GMT to clusterProfiler format\n",
    "NOTE: This is slow\n"
   ]
  },
  {
   "cell_type": "code",
   "execution_count": null,
   "metadata": {
    "Rmd_chunk_options": "loadGeneSets, eval=FALSE",
    "autoscroll": false,
    "collapsed": true
   },
   "outputs": [],
   "source": [
    "pc <- lovGmt[idx]\n",
    "emGmt <- data.frame(ont=character(0), gene=character(0), db=character(0), id=character(0))\n",
    "\n",
    "maxValue <- length(pc)\n",
    "pb <- txtProgressBar(min=1, max=maxValue, style=3)\n",
    "\n",
    "for(i in 1:length(names(pc))) {\n",
    "  setTxtProgressBar(pb, i)\n",
    "\n",
    "  t1 <- names(pc)[i]\n",
    "  t2 <- strsplit(t1, \"%\")\n",
    "  ont <- t2[[1]][1]\n",
    "  db <- t2[[1]][2]\n",
    "  id <- t2[[1]][3]\n",
    "\n",
    "  emGmt <- rbind(emGmt, data.frame(ont=ont, gene=pc[[i]], db=db, id=id))\n",
    "}\n",
    "\n",
    "saveRDS(emGmt, \"emGmt.rds\")"
   ]
  },
  {
   "cell_type": "markdown",
   "metadata": {},
   "source": [
    "\n",
    "## Load GMT\n"
   ]
  },
  {
   "cell_type": "code",
   "execution_count": null,
   "metadata": {
    "autoscroll": false,
    "collapsed": true
   },
   "outputs": [],
   "source": [
    "emGmt <- readRDS(\"emGmt.rds\")\n",
    "\n",
    "gmt <- emGmt"
   ]
  },
  {
   "cell_type": "markdown",
   "metadata": {},
   "source": [
    "\n",
    "## Load Example Data\n"
   ]
  },
  {
   "cell_type": "code",
   "execution_count": null,
   "metadata": {
    "autoscroll": false,
    "collapsed": true
   },
   "outputs": [],
   "source": [
    "genes <- geneSetPathwayAnalysis::geneSets[\"DDR (HR)\"]\n",
    "genes <- genes$DDR\n",
    "genes <- sample(genes, 15)\n",
    "genes"
   ]
  },
  {
   "cell_type": "markdown",
   "metadata": {},
   "source": [
    "\n",
    "## Run Enrichment Analyses\n"
   ]
  },
  {
   "cell_type": "code",
   "execution_count": null,
   "metadata": {
    "autoscroll": false,
    "collapsed": true
   },
   "outputs": [],
   "source": [
    "# Hypergeometric\n",
    "egmt <- enricher(genes, TERM2GENE=gmt, qvalueCutoff=0.1)\n",
    "head(egmt)\n",
    "\n",
    "barplot(egmt, showCategory=8)\n",
    "dotplot(egmt, showCategory=8)\n",
    "g <- enrichMap(egmt, n=10, vertex.label.font=0.001)\n",
    "\n",
    "j1 <- toCytoscape(g)\n",
    "write(j1, \"enrich_del.json\")"
   ]
  },
  {
   "cell_type": "markdown",
   "metadata": {},
   "source": [
    "\n",
    "## Get communities (modules)\n"
   ]
  },
  {
   "cell_type": "code",
   "execution_count": null,
   "metadata": {
    "autoscroll": false,
    "collapsed": true
   },
   "outputs": [],
   "source": [
    "x <- enrichMap(egmt, n=nrow(egmt), vertex.label.font=0.05)\n",
    "ebc <- cluster_edge_betweenness(x)\n",
    "ebc <- cluster_fast_greedy(x)\n",
    "e1 <- membership(ebc)\n",
    "\n",
    "e1Df <- data.frame(name=names(e1), module=as.numeric(e1), stringsAsFactors = FALSE)\n",
    "\n",
    "# Largest module\n",
    "curModule <- as.numeric(names(sort(table(unname(e1)),decreasing=TRUE)[1]))\n",
    "curModule <- 3\n",
    "\n",
    "e2 <- names(which(e1 == curModule))\n",
    "\n",
    "ebcGenes <- NULL\n",
    "for(i in 1:length(e2)) {\n",
    "  pattern <- gsub(\"([.|()\\\\^{}+$*?]|\\\\[|\\\\])\", \"\\\\\\\\\\\\1\", e2[i])\n",
    "  pattern <- paste0(\"^\", pattern, \"%\")\n",
    "\n",
    "  # Grab the first geneset if multiple\n",
    "  idx <- which(grepl(pattern, names(lovGmt)))[1]\n",
    "\n",
    "  genesInPathway <- genes[genes %in% lovGmt[[idx]]]\n",
    "\n",
    "  ebcGenes <- c(ebcGenes, genesInPathway)\n",
    "}\n",
    "\n",
    "sort(table(ebcGenes), decreasing=TRUE) / length(e2)\n",
    "#ebcGenes <- unique(ebcGenes)\n",
    "\n",
    "# Recurrent words in module and frequency\n",
    "#wordcloud(corpus, max.words = 25, min.freq=3, random.order = FALSE)\n",
    "#tf1\n",
    "\n",
    "# Genes in module\n",
    "ebcGenes\n",
    "\n",
    "# Get the gene set name that has the most overlap with the user input\n",
    "idxM1 <- which(egmt$ID %in% e2)\n",
    "idxM2 <- which.max(egmt$Count[idxM1])\n",
    "selectedPathway <- egmt$ID[idxM1][idxM2]"
   ]
  }
 ],
 "metadata": {
  "Rmd_header": {
   "output": {
    "html_notebook": {
     "toc": true
    },
    "md_document": {
     "variant": "markdown_github"
    }
   },
   "title": "clusterProfiler Test"
  },
  "kernelspec": {
   "display_name": "R",
   "language": "R",
   "name": "ir"
  },
  "language_info": {
   "codemirror_mode": "r",
   "file_extension": ".r",
   "mimetype": "text/x-r-source",
   "name": "R",
   "pygments_lexer": "r"
  }
 },
 "nbformat": 4,
 "nbformat_minor": 0
}
